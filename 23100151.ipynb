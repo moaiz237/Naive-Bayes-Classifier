{
 "cells": [
  {
   "cell_type": "code",
   "execution_count": 1,
   "id": "836f0fe3",
   "metadata": {
    "scrolled": false
   },
   "outputs": [],
   "source": [
    "#Loading Data. Will take some time\n",
    "import pandas as pd\n",
    "import os\n",
    "import glob\n",
    "import collections\n",
    "import math\n",
    "import re\n",
    "data = []\n",
    "data1 = glob.glob(r'IMDB_Dataset\\Dataset\\train\\pos\\*.txt')\n",
    "data2 = glob.glob(r'IMDB_Dataset\\Dataset\\train\\neg\\*.txt')\n",
    "data3 = glob.glob(r'IMDB_Dataset\\Dataset\\test\\pos\\*.txt')\n",
    "data4 = glob.glob(r'IMDB_Dataset\\Dataset\\test\\neg\\*.txt')\n",
    "postrain_X = []\n",
    "negtrain_X = []\n",
    "postest_X = []\n",
    "negtest_X = []\n",
    "\n",
    "for i in range(len(data1)):\n",
    "    file = open(data1[i], 'r', encoding=\"utf8\")\n",
    "    postrain_X.append(file.read().replace('\\n', ''))        \n",
    "for i in range(len(data2)):\n",
    "    file = open(data2[i], 'r', encoding=\"utf8\")\n",
    "    negtrain_X.append(file.read().replace('\\n', ''))\n",
    "for i in range (len(data3)):\n",
    "    file = open(data3[i], 'r', encoding=\"utf8\")\n",
    "    postest_X.append(file.read().replace('\\n', ''))\n",
    "for i in range(len(data4)):\n",
    "    file = open(data4[i], 'r', encoding=\"utf8\")\n",
    "    negtest_X.append(file.read().replace('\\n', ''))    "
   ]
  },
  {
   "cell_type": "code",
   "execution_count": 2,
   "id": "0ae058ec",
   "metadata": {},
   "outputs": [],
   "source": [
    "#Pre-processing. Takes quite a while\n",
    "ppostrain_X = [] #pre-processed training data with positive class\n",
    "pnegtrain_X = []\n",
    "ppostest_X = []\n",
    "pnegtest_X = []\n",
    "file = open('IMDB_Dataset\\Dataset\\stop_words.txt', 'r')\n",
    "lines = file.readlines()\n",
    "for i in range(0, len(postrain_X)):\n",
    "    ppostrain_X.append(postrain_X[i].lower())\n",
    "    ppostrain_X[i] = re.sub(r\"[.,;:!?0-9]\", \"\" ,ppostrain_X[i])\n",
    "    ppostrain_X[i] = re.sub(r\"[^a-z\\s']\", \"\", ppostrain_X[i])\n",
    "\n",
    "    pnegtrain_X.append(negtrain_X[i].lower())\n",
    "    pnegtrain_X[i] = re.sub(r\"[.,;:!?0-9]\", \"\" ,pnegtrain_X[i])\n",
    "    pnegtrain_X[i] = re.sub(r\"[^a-z\\s']\", \"\", pnegtrain_X[i])\n",
    "\n",
    "    ppostest_X.append(postest_X[i].lower())\n",
    "    ppostest_X[i] = re.sub(r\"[.,;:!?0-9]\", \"\" ,ppostest_X[i])\n",
    "    ppostest_X[i] = re.sub(r\"[^a-z\\s']\", \"\", ppostest_X[i])\n",
    "\n",
    "    pnegtest_X.append(negtest_X[i].lower())\n",
    "    pnegtest_X[i] = re.sub(r\"[.,;:!?0-9]\", \"\" ,pnegtest_X[i])\n",
    "    pnegtest_X[i] = re.sub(r\"[^a-z\\s']\", \"\", pnegtest_X[i])\n",
    "\n",
    "    for line in lines:\n",
    "        stop_word = line.strip()\n",
    "        ppostrain_X[i] = re.sub(r\"\\b{}\\b\".format(stop_word), \"\" ,ppostrain_X[i])\n",
    "        pnegtrain_X[i] = re.sub(r\"\\b{}\\b\".format(stop_word), \"\" ,pnegtrain_X[i])\n",
    "        ppostest_X[i] = re.sub(r\"\\b{}\\b\".format(stop_word), \"\" ,ppostest_X[i])\n",
    "        pnegtest_X[i] = re.sub(r\"\\b{}\\b\".format(stop_word), \"\" ,pnegtest_X[i])\n",
    "    ppostrain_X[i] = re.sub(r\"[']\", \"\", ppostrain_X[i])\n",
    "    pnegtrain_X[i] = re.sub(r\"[']\", \"\", pnegtrain_X[i])\n",
    "    ppostest_X[i] = re.sub(r\"[']\", \"\", ppostest_X[i])\n",
    "    pnegtest_X[i] = re.sub(r\"[']\", \"\", pnegtest_X[i])"
   ]
  },
  {
   "cell_type": "code",
   "execution_count": 3,
   "id": "97d91a6a",
   "metadata": {},
   "outputs": [],
   "source": [
    "def make_vocabulary(trd):\n",
    "    vocabulary = set()\n",
    "    for i in trd:\n",
    "        words = i.split()\n",
    "        for j in words:\n",
    "            vocabulary.add(j)\n",
    "    return vocabulary"
   ]
  },
  {
   "cell_type": "code",
   "execution_count": 4,
   "id": "be3e56cb",
   "metadata": {},
   "outputs": [],
   "source": [
    "def count_words(words):\n",
    "    dict1 = {}\n",
    "    for word in words:\n",
    "        if(word in dict1.keys()):\n",
    "            dict1[word] = dict1[word] + 1\n",
    "        else:\n",
    "            dict1[word] = 1\n",
    "    return dict1"
   ]
  },
  {
   "cell_type": "code",
   "execution_count": 5,
   "id": "e2afacad",
   "metadata": {},
   "outputs": [],
   "source": [
    "def make_bow(trd, vocabulary):\n",
    "    bow = {}\n",
    "    big_string = ' '.join(trd)\n",
    "    words = big_string.split()\n",
    "    frequency = count_words(words)\n",
    "    for j in range(len(vocabulary)):\n",
    "        bow[vocabulary[j]] = 0\n",
    "        if vocabulary[j] in frequency.keys():\n",
    "            bow[vocabulary[j]] = frequency[vocabulary[j]]\n",
    "    return bow"
   ]
  },
  {
   "cell_type": "code",
   "execution_count": 6,
   "id": "6a03879d",
   "metadata": {},
   "outputs": [],
   "source": [
    "#Part1\n",
    "def train_naive_bayes(train_X, C, vocabulary): #vocabulary given as parameter since there is no need to find vocabulary in loop again and again since it wont change.\n",
    "    logprior = {}\n",
    "    bigdoc = {}\n",
    "    loglikelihood = {}\n",
    "    for c in C.keys():\n",
    "        Ndoc = len(train_X)\n",
    "        Nc = len(C[c])\n",
    "        total_count = 0\n",
    "        bigdoc[c] = make_bow(C[c], vocabulary)\n",
    "        for word in bigdoc[c].keys(): #added +1 to count of each word\n",
    "            total_count = total_count + 1 + bigdoc[c][word] \n",
    "        logprior[c] = math.log(Nc/Ndoc)\n",
    "        dict_words = {}\n",
    "        for word in bigdoc[c].keys():\n",
    "            count = bigdoc[c][word]\n",
    "            dict_words[word] = math.log((count + 1)/total_count)\n",
    "        loglikelihood[c] = dict_words    \n",
    "    return logprior, loglikelihood    "
   ]
  },
  {
   "cell_type": "code",
   "execution_count": 7,
   "id": "431e4d18",
   "metadata": {},
   "outputs": [],
   "source": [
    "def test_naive_bayes(testdoc, logprior, loglikelihood, C, bigdoc):\n",
    "    sums = {}\n",
    "    words = testdoc.split()\n",
    "    for c in C.keys():\n",
    "        sums[c] = logprior[c]\n",
    "        for word in words:\n",
    "            if word in bigdoc[c].keys():\n",
    "                sums[c] = sums[c] + loglikelihood[c][word]\n",
    "    return (max(sums, key = sums.get))  "
   ]
  },
  {
   "cell_type": "code",
   "execution_count": 8,
   "id": "c4bdf80b",
   "metadata": {},
   "outputs": [],
   "source": [
    "def confusion_matrix(true_pos, false_pos, true_neg, false_neg):\n",
    "    confusion_matrix = np.zeros((2, 2), dtype = int)\n",
    "    confusion_matrix[0][0] = true_neg\n",
    "    confusion_matrix[0][1] = false_pos\n",
    "    confusion_matrix[1][0] = false_neg\n",
    "    confusion_matrix[1][1] = true_pos\n",
    "    return confusion_matrix"
   ]
  },
  {
   "cell_type": "code",
   "execution_count": 9,
   "id": "0c0b065c",
   "metadata": {},
   "outputs": [],
   "source": [
    "train_X = ppostrain_X + pnegtrain_X #training data with positive labels and training data with negative lables combined together\n",
    "test_X = ppostest_X + pnegtest_X\n",
    "vocabulary = list(make_vocabulary(train_X))\n",
    "C = {}\n",
    "C['pos'] = ppostrain_X\n",
    "C['neg'] = pnegtrain_X\n",
    "logprior, loglikelihood = train_naive_bayes(train_X, C, vocabulary)"
   ]
  },
  {
   "cell_type": "code",
   "execution_count": 10,
   "id": "80cd6085",
   "metadata": {},
   "outputs": [],
   "source": [
    "bigdoc = {}\n",
    "test_pred = []\n",
    "bigdoc['pos'] = make_bow(C['pos'], vocabulary) # will be passing bigdoc as argument instead of vocabulary as vocabulary is a list and finidng the word in list takes much more time than finding word in dictionary.keys()\n",
    "bigdoc['neg'] = make_bow(C['neg'], vocabulary)\n",
    "for review in test_X:\n",
    "    test_pred.append(test_naive_bayes(review, logprior, loglikelihood, C, bigdoc))"
   ]
  },
  {
   "cell_type": "code",
   "execution_count": 11,
   "id": "6ee53ff9",
   "metadata": {},
   "outputs": [
    {
     "name": "stdout",
     "output_type": "stream",
     "text": [
      "Accuracy is:  0.82644\n",
      "Confusion matrix is: \n",
      "\n",
      "[[11001  1499]\n",
      " [ 2840  9660]]\n"
     ]
    }
   ],
   "source": [
    "import numpy as np\n",
    "true_pos = 0\n",
    "true_neg = 0\n",
    "false_pos = 0\n",
    "false_neg = 0\n",
    "for i in range(len(ppostest_X)):\n",
    "    if(test_pred[i] == 'pos'):\n",
    "        true_pos+=1\n",
    "    else:\n",
    "        false_neg+=1\n",
    "for i in range(len(ppostest_X), len(ppostest_X) + len(pnegtest_X)):\n",
    "    if(test_pred[i] == 'neg'):\n",
    "        true_neg+=1\n",
    "    else:\n",
    "        false_pos+=1\n",
    "accuracy = (true_pos + true_neg) / (true_pos + true_neg + false_pos + false_neg)\n",
    "print('Accuracy is: ', accuracy)\n",
    "print('Confusion matrix is: \\n')\n",
    "print(confusion_matrix(true_pos, false_pos, true_neg, false_neg))\n"
   ]
  },
  {
   "cell_type": "code",
   "execution_count": 12,
   "id": "feeec635",
   "metadata": {},
   "outputs": [
    {
     "name": "stdout",
     "output_type": "stream",
     "text": [
      "Accuracy is:  0.82644\n",
      "Confusion matrix is: \n",
      "\n",
      "[[11001  1499]\n",
      " [ 2840  9660]]\n"
     ]
    }
   ],
   "source": [
    "#Part2\n",
    "from sklearn.feature_extraction.text import CountVectorizer\n",
    "from sklearn.naive_bayes import MultinomialNB\n",
    "from sklearn.metrics import accuracy_score\n",
    "from sklearn.metrics import confusion_matrix\n",
    "vectorizer = CountVectorizer()\n",
    "X1 = vectorizer.fit_transform(train_X)\n",
    "X2 = vectorizer.transform(test_X)\n",
    "y = np.ones((len(ppostrain_X)))\n",
    "z = np.zeros((len(pnegtrain_X)))\n",
    "y_true = np.concatenate([y, z])\n",
    "clf = MultinomialNB()\n",
    "clf.fit(X1, y_true)\n",
    "y_pred = clf.predict(X2)\n",
    "print('Accuracy is: ', accuracy_score(y_true, y_pred)) # y_true used as gold labels for both training data and test data since data divided evenly.\n",
    "print('Confusion matrix is: \\n')\n",
    "print(confusion_matrix(y_true, y_pred))"
   ]
  },
  {
   "cell_type": "code",
   "execution_count": null,
   "id": "65171ab3",
   "metadata": {},
   "outputs": [],
   "source": []
  }
 ],
 "metadata": {
  "kernelspec": {
   "display_name": "Python 3 (ipykernel)",
   "language": "python",
   "name": "python3"
  },
  "language_info": {
   "codemirror_mode": {
    "name": "ipython",
    "version": 3
   },
   "file_extension": ".py",
   "mimetype": "text/x-python",
   "name": "python",
   "nbconvert_exporter": "python",
   "pygments_lexer": "ipython3",
   "version": "3.9.4"
  }
 },
 "nbformat": 4,
 "nbformat_minor": 5
}
